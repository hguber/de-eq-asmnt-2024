{
 "cells": [
  {
   "cell_type": "code",
   "execution_count": 6,
   "id": "6403ad40-b361-4708-b1cd-3270cd3076ec",
   "metadata": {},
   "outputs": [],
   "source": [
    "import os\n",
    "import argparse\n",
    "\n",
    "from time import time\n",
    "from datetime import datetime\n",
    "\n",
    "import pandas as pd\n",
    "import json\n",
    "from libcomcat.search import count, get_event_by_id, search\n",
    "\n",
    "#lon min, lon max, lat min, lat max\n",
    "#sw lon, ne lon, sw lat, ne lat"
   ]
  },
  {
   "cell_type": "code",
   "execution_count": null,
   "id": "99b3dd7a-21e2-40a6-b237-b9aa09045a9b",
   "metadata": {},
   "outputs": [],
   "source": [
    "def download_csv(output_file, dt_start, dt_end, country):\n",
    "    os.system(f\"getcsv {output_file} \\\n",
    "    -b {co_bb[country]['sw']['lon']} \\\n",
    "    {co_bb[country]['ne']['lon']} \\\n",
    "    {co_bb[country]['sw']['lat']} \\\n",
    "    {co_bb[country]['ne']['lat']} \\\n",
    "    -s {dt_start} \\\n",
    "    -e {dt_end} \\\n",
    "    -f csv\")"
   ]
  },
  {
   "cell_type": "code",
   "execution_count": 42,
   "id": "9ca96021-bca2-4499-8ecb-4bc40d3cdee3",
   "metadata": {},
   "outputs": [],
   "source": [
    "co_json = open('countries_bbox.json')\n",
    "co_bb = json.load(co_json)\n",
    "co_list = []\n",
    "for co_obj in co_bb:\n",
    "    co_list.append(co_obj)"
   ]
  },
  {
   "cell_type": "code",
   "execution_count": 44,
   "id": "28627d25-59cb-41fe-af87-8cdeabe34e40",
   "metadata": {},
   "outputs": [
    {
     "data": {
      "text/plain": [
       "246"
      ]
     },
     "execution_count": 44,
     "metadata": {},
     "output_type": "execute_result"
    }
   ],
   "source": [
    "len(co_list)"
   ]
  },
  {
   "cell_type": "code",
   "execution_count": null,
   "id": "1025da84-9ff5-4aac-a02a-e0324028208e",
   "metadata": {},
   "outputs": [],
   "source": [
    "def main(params):\n",
    "    co_json = open('countries_bbox.json')\n",
    "    co_bb = json.load(co_json)\n",
    "    country = params.country\n",
    "    dt_start = params.dt_start\n",
    "    dt_end = params.dt_end\n",
    "    output_file = f'{country}_eq.csv'\n",
    "    \n",
    "    if country == 'global':\n",
    "        co_list = []\n",
    "        for co_obj in co_json:\n",
    "            co_list.append(co_obj)\n",
    "        for co in co_list:\n",
    "            download_csv(output_file, country, dt_start, dt_end)\n",
    "    else:\n",
    "        download_csv(output_file, country, dt_start, dt_end)\n",
    "\n",
    "    print(f'file successfully downloaded. final row count of {output_file}: {len(pd.read_csv(output_file)}')"
   ]
  },
  {
   "cell_type": "code",
   "execution_count": null,
   "id": "3f99012a-0378-4bc0-8880-2c1a18ae9f3e",
   "metadata": {},
   "outputs": [],
   "source": [
    "if __name__ == '__main__':\n",
    "    parser = argparse.ArgumentParser(description='Ingest CSV data to GCP bucket')\n",
    "\n",
    "    parser.add_argument('--country', required=True, help='three-letter country code')\n",
    "    parser.add_argument('--dt_start', required=True, help='date for range start: YYYY-mm-dd, YYYY-mm-ddTHH:MM:SS, or YYYY-mm-ddTHH:MM:SS.s')\n",
    "    parser.add_argument('--dt_end', required=True, help='date for range end: YYYY-mm-dd, YYYY-mm-ddTHH:MM:SS, or YYYY-mm-ddTHH:MM:SS.s.')\n",
    "\n",
    "    args = parser.parse_args()\n",
    "\n",
    "    main(args)"
   ]
  }
 ],
 "metadata": {
  "kernelspec": {
   "display_name": "Python 3 (ipykernel)",
   "language": "python",
   "name": "python3"
  },
  "language_info": {
   "codemirror_mode": {
    "name": "ipython",
    "version": 3
   },
   "file_extension": ".py",
   "mimetype": "text/x-python",
   "name": "python",
   "nbconvert_exporter": "python",
   "pygments_lexer": "ipython3",
   "version": "3.10.13"
  }
 },
 "nbformat": 4,
 "nbformat_minor": 5
}
