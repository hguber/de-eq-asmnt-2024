{
 "cells": [
  {
   "cell_type": "code",
   "execution_count": 2,
   "id": "5666e59f-b4de-4f0c-9eb9-70a97ac3dc42",
   "metadata": {},
   "outputs": [],
   "source": [
    "import pyspark\n",
    "from pyspark.sql import SparkSession\n",
    "from pyspark.conf import SparkConf\n",
    "from pyspark.context import SparkContext"
   ]
  },
  {
   "cell_type": "code",
   "execution_count": 3,
   "id": "3a02237f-d7a2-47eb-ae6e-ee0edb6447c6",
   "metadata": {},
   "outputs": [],
   "source": [
    "credentials_location = '/workspaces/de-eq-asmnt-2024/google_credentials/de-eq-asmnt-2024-6ee51b1c99e1.json'\n",
    "\n",
    "conf = SparkConf() \\\n",
    "    .setMaster('local[*]') \\\n",
    "    .setAppName('test') \\\n",
    "    .set(\"spark.jars\", \"./lib/gcs-connector-hadoop3-2.2.5.jar\") \\\n",
    "    .set(\"spark.hadoop.google.cloud.auth.service.account.enable\", \"true\") \\\n",
    "    .set(\"spark.hadoop.google.cloud.auth.service.account.json.keyfile\", credentials_location)"
   ]
  },
  {
   "cell_type": "code",
   "execution_count": 4,
   "id": "e800e483-c8b6-4030-9e1e-90d8a307387e",
   "metadata": {},
   "outputs": [
    {
     "name": "stdout",
     "output_type": "stream",
     "text": [
      "24/04/17 00:56:41 WARN Utils: Your hostname, codespaces-ff0b25 resolves to a loopback address: 127.0.0.1; using 172.16.5.4 instead (on interface eth0)\n",
      "24/04/17 00:56:41 WARN Utils: Set SPARK_LOCAL_IP if you need to bind to another address\n",
      "24/04/17 00:56:42 WARN NativeCodeLoader: Unable to load native-hadoop library for your platform... using builtin-java classes where applicable\n"
     ]
    },
    {
     "name": "stderr",
     "output_type": "stream",
     "text": [
      "Setting default log level to \"WARN\".\n",
      "To adjust logging level use sc.setLogLevel(newLevel). For SparkR, use setLogLevel(newLevel).\n"
     ]
    }
   ],
   "source": [
    "sc = SparkContext(conf=conf)\n",
    "\n",
    "hadoop_conf = sc._jsc.hadoopConfiguration()\n",
    "\n",
    "hadoop_conf.set(\"fs.AbstractFileSystem.gs.impl\",  \"com.google.cloud.hadoop.fs.gcs.GoogleHadoopFS\")\n",
    "hadoop_conf.set(\"fs.gs.impl\", \"com.google.cloud.hadoop.fs.gcs.GoogleHadoopFileSystem\")\n",
    "hadoop_conf.set(\"fs.gs.auth.service.account.json.keyfile\", credentials_location)\n",
    "hadoop_conf.set(\"fs.gs.auth.service.account.enable\", \"true\")"
   ]
  },
  {
   "cell_type": "code",
   "execution_count": 5,
   "id": "2a95e01a-d931-4b95-a903-4df392a0c98d",
   "metadata": {},
   "outputs": [],
   "source": [
    "spark = SparkSession.builder \\\n",
    "    .config(conf=sc.getConf()) \\\n",
    "    .getOrCreate()"
   ]
  },
  {
   "cell_type": "code",
   "execution_count": 95,
   "id": "a7a3fd87-1e45-4a8f-9d7f-f5ee3d9a932c",
   "metadata": {},
   "outputs": [
    {
     "name": "stderr",
     "output_type": "stream",
     "text": [
      "                                                                                \r"
     ]
    }
   ],
   "source": [
    "df = spark.read.csv('eq_events/*/*', header='true')"
   ]
  },
  {
   "cell_type": "code",
   "execution_count": 98,
   "id": "756b0198-2d66-421b-8a45-6b1d5127b81f",
   "metadata": {},
   "outputs": [],
   "source": [
    "df = df.drop('_c0')"
   ]
  },
  {
   "cell_type": "code",
   "execution_count": 100,
   "id": "03b504fe-6532-4607-9d16-1ae167a4c71e",
   "metadata": {},
   "outputs": [],
   "source": [
    "df.registerTempTable('eq_events')"
   ]
  },
  {
   "cell_type": "code",
   "execution_count": 120,
   "id": "4491374f-8f2e-4915-b02e-e9a5206a9b1e",
   "metadata": {},
   "outputs": [],
   "source": [
    "df_final = spark.sql(\"\"\"\n",
    "select *\n",
    "from eq_events\n",
    "cluster by country\n",
    "\"\"\")"
   ]
  },
  {
   "cell_type": "code",
   "execution_count": 116,
   "id": "1a51320b-5daa-4104-a5f3-f78dcac74fac",
   "metadata": {},
   "outputs": [],
   "source": [
    "df_monthly = spark.sql(\"\"\"\n",
    "select \n",
    "    country, \n",
    "    date_trunc('month', date) as eq_month,\n",
    "    COUNT(event_id) as events_occ,\n",
    "    avg(depth) as avg_depth_month,\n",
    "    avg(magnitude) as avg_mag_month,\n",
    "    avg(significance) as avg_sig_month,\n",
    "    max(depth) as max_depth_month,\n",
    "    max(magnitude) as max_mag_month,\n",
    "    max(significance) as max_sig_month,\n",
    "    min(depth) as min_depth_month,\n",
    "    min(magnitude) as min_mag_month,\n",
    "    min(significance) as min_sig_month\n",
    "from eq_events\n",
    "group by 1,2\n",
    "cluster by country\n",
    "\"\"\")"
   ]
  },
  {
   "cell_type": "code",
   "execution_count": 117,
   "id": "98f0e73e-53dd-40ab-b8a9-eb9e1f7e28c1",
   "metadata": {},
   "outputs": [],
   "source": [
    "df_week = spark.sql(\"\"\"\n",
    "select \n",
    "    country, \n",
    "    date_trunc('week', date) as eq_week,\n",
    "    COUNT(event_id) as events_occ,\n",
    "    avg(depth) as avg_depth_week,\n",
    "    avg(magnitude) as avg_mag_week,\n",
    "    avg(significance) as avg_sig_week,\n",
    "    max(depth) as max_depth_week,\n",
    "    max(magnitude) as max_mag_week,\n",
    "    max(significance) as max_sig_week,\n",
    "    min(depth) as min_depth_week,\n",
    "    min(magnitude) as min_mag_week,\n",
    "    min(significance) as min_sig_week\n",
    "from eq_events\n",
    "group by 1,2\n",
    "cluster by country\n",
    "\"\"\")"
   ]
  },
  {
   "cell_type": "code",
   "execution_count": 118,
   "id": "c1dbcfdd-6d85-46cf-ac07-32d7ae5f4c7d",
   "metadata": {},
   "outputs": [],
   "source": [
    "df_daily = spark.sql(\"\"\"\n",
    "select \n",
    "    country, \n",
    "    date,\n",
    "    COUNT(event_id) as events_occ,\n",
    "    avg(depth) as avg_depth_day,\n",
    "    avg(magnitude) as avg_mag_day,\n",
    "    avg(significance) as avg_sig_day,\n",
    "    max(depth) as max_depth_day,\n",
    "    max(magnitude) as max_mag_day,\n",
    "    max(significance) as max_sig_day,\n",
    "    min(depth) as min_depth_day,\n",
    "    min(magnitude) as min_mag_day,\n",
    "    min(significance) as min_mag_day\n",
    "from eq_events\n",
    "group by 1,2 \n",
    "cluster by country\n",
    "\"\"\")"
   ]
  },
  {
   "cell_type": "code",
   "execution_count": 121,
   "id": "5daa9632-a733-4b6f-ac84-39590fad0e0c",
   "metadata": {},
   "outputs": [
    {
     "name": "stderr",
     "output_type": "stream",
     "text": [
      "[Stage 85:================================================>       (12 + 2) / 14]\r"
     ]
    },
    {
     "name": "stdout",
     "output_type": "stream",
     "text": [
      "+----------+--------------------+--------------------+--------+---------+-----+---------+------------+-----+-------+----------+---------------+--------+\n",
      "|  event_id|            datetime|            location|latitude|longitude|depth|magnitude|significance|alert|country|      date|      timestamp|   level|\n",
      "+----------+--------------------+--------------------+--------+---------+-----+---------+------------+-----+-------+----------+---------------+--------+\n",
      "|usp000ennh|2006-07-15 07:36:...|76 km NNE of Punt...|   12.33|   -69.92| 25.8|      4.4|         298|  nan|    ABW|2006-07-15|07:36:21.500000|   light|\n",
      "|usp000g320|2008-04-03 19:07:...|64 km NNE of Punt...|  12.231|  -69.971| 10.8|      4.0|         246|  nan|    ABW|2008-04-03|19:07:55.890000|   light|\n",
      "|usc000n5bb|2014-03-07 17:31:...|67 km NNE of Punt...|   12.27|    -70.0| 23.6|      3.0|         139|  nan|    ABW|2014-03-07|17:31:41.200000|   minor|\n",
      "|usp000j74j|2011-08-27 16:15:...|101 km NNE of Pun...|   12.48|   -69.72| 15.0|      4.7|         407|  nan|    ABW|2011-08-27|16:15:29.700000|   light|\n",
      "|usp000h62c|2010-01-13 08:14:...|60 km NNE of Punt...|  12.209|  -70.018| 12.2|      4.2|         271|  nan|    ABW|2010-01-13|08:14:49.100000|   light|\n",
      "|usp000e0ra|2005-10-02 14:12:...|30 km NNE of Ishq...|  36.964|   71.792| 10.0|      3.6|         199|  nan|    AFG|2005-10-02|14:12:29.710000|   minor|\n",
      "|usp000e0v7|2005-10-04 06:45:...|96 km NNE of Khan...|  37.698|   72.872|120.4|      4.1|         259|  nan|    AFG|2005-10-04|06:45:13.070000|   light|\n",
      "|usp000e0wh|2005-10-04 22:15:...|25 km SE of Jurm,...|  36.713|   71.042|215.0|      3.6|         199|  nan|    AFG|2005-10-04|22:15:40.250000|   minor|\n",
      "|usp000e0wz|2005-10-05 08:35:...|54 km SW of Ashk?...|  36.324|    71.12|222.6|      4.0|         246|  nan|    AFG|2005-10-05|08:35:12.930000|   light|\n",
      "|usp000e0y3|2005-10-06 00:55:...|47 km ESE of Fark...|  36.438|   70.358|182.8|      4.3|         284|  nan|    AFG|2005-10-06|00:55:42.620000|   light|\n",
      "|usp000e0ym|2005-10-06 09:12:...|21 km NW of Tank,...|   32.35|   70.216| 24.5|      4.4|         298|  nan|    AFG|2005-10-06|09:12:13.890000|   light|\n",
      "|usp000e0z5|2005-10-06 15:47:...|33 km SE of Jurm,...|  36.625|   71.059|212.9|      4.3|         284|  nan|    AFG|2005-10-06|15:47:25.800000|   light|\n",
      "|usp000e10e|2005-10-07 04:37:...|62 km E of Khorug...|  37.554|   72.258|203.9|      4.0|         246|  nan|    AFG|2005-10-07|04:37:24.050000|   light|\n",
      "|usp000e12e|2005-10-08 03:50:...|21 km NNE of Muza...|  34.539|   73.588| 26.0|      7.6|        1267|  nan|    AFG|2005-10-08|03:50:40.800000|   major|\n",
      "|usp000e12f|2005-10-08 03:57:...|17 km SE of Muzaf...|  34.238|   73.579| 10.0|      5.9|         536|  nan|    AFG|2005-10-08|03:57:19.830000|moderate|\n",
      "|usp000e12g|2005-10-08 03:58:...|74 km NNE of Muza...|  34.994|   73.781| 10.0|      5.7|         500|  nan|    AFG|2005-10-08|03:58:12.780000|moderate|\n",
      "|usp000e12h|2005-10-08 03:58:...|1 km SSE of Muzaf...|  34.353|   73.477| 10.0|      5.8|         518|  nan|    AFG|2005-10-08|03:58:36.280000|moderate|\n",
      "|usp000e12j|2005-10-08 04:01:...|20 km E of Battag...|  34.712|   73.239| 10.0|      5.6|         482|  nan|    AFG|2005-10-08|04:01:20.330000|moderate|\n",
      "|usp000e12k|2005-10-08 04:02:...|12 km NE of Baffa...|  34.515|   73.323| 10.0|      5.6|         482|  nan|    AFG|2005-10-08|04:02:24.660000|moderate|\n",
      "|usp000e12m|2005-10-08 04:07:...|16 km SE of Batta...|  34.586|   73.159| 10.0|      5.4|         449|  nan|    AFG|2005-10-08|04:07:46.830000|moderate|\n",
      "+----------+--------------------+--------------------+--------+---------+-----+---------+------------+-----+-------+----------+---------------+--------+\n",
      "only showing top 20 rows\n",
      "\n"
     ]
    },
    {
     "name": "stderr",
     "output_type": "stream",
     "text": [
      "                                                                                \r"
     ]
    }
   ],
   "source": [
    "df_final.show()"
   ]
  },
  {
   "cell_type": "code",
   "execution_count": 124,
   "id": "a9a7507d-e9ac-44a6-84c2-ebd8ac3c196d",
   "metadata": {},
   "outputs": [
    {
     "name": "stderr",
     "output_type": "stream",
     "text": [
      "                                                                                \r"
     ]
    }
   ],
   "source": [
    "df.coalesce(1).write.option(\"header\", \"true\").parquet('eq_events/final/', mode='overwrite')"
   ]
  },
  {
   "cell_type": "code",
   "execution_count": 122,
   "id": "f1e011cb-550e-426b-bf22-de519d1238c6",
   "metadata": {},
   "outputs": [
    {
     "name": "stderr",
     "output_type": "stream",
     "text": [
      "ERROR:root:KeyboardInterrupt while sending command.                 (0 + 2) / 3]\n",
      "Traceback (most recent call last):\n",
      "  File \"/usr/local/python/3.10.13/lib/python3.10/site-packages/py4j/java_gateway.py\", line 1038, in send_command\n",
      "    response = connection.send_command(command)\n",
      "  File \"/usr/local/python/3.10.13/lib/python3.10/site-packages/py4j/clientserver.py\", line 511, in send_command\n",
      "    answer = smart_decode(self.stream.readline()[:-1])\n",
      "  File \"/usr/local/python/3.10.13/lib/python3.10/socket.py\", line 705, in readinto\n",
      "    return self._sock.recv_into(b)\n",
      "KeyboardInterrupt\n"
     ]
    },
    {
     "ename": "KeyboardInterrupt",
     "evalue": "",
     "output_type": "error",
     "traceback": [
      "\u001b[0;31m---------------------------------------------------------------------------\u001b[0m",
      "\u001b[0;31mKeyboardInterrupt\u001b[0m                         Traceback (most recent call last)",
      "Cell \u001b[0;32mIn[122], line 1\u001b[0m\n\u001b[0;32m----> 1\u001b[0m \u001b[43mdf_final\u001b[49m\u001b[38;5;241;43m.\u001b[39;49m\u001b[43mwrite\u001b[49m\u001b[38;5;241;43m.\u001b[39;49m\u001b[43mpartitionBy\u001b[49m\u001b[43m(\u001b[49m\u001b[38;5;124;43m'\u001b[39;49m\u001b[38;5;124;43mdate\u001b[39;49m\u001b[38;5;124;43m'\u001b[39;49m\u001b[43m)\u001b[49m\u001b[38;5;241;43m.\u001b[39;49m\u001b[43mparquet\u001b[49m\u001b[43m(\u001b[49m\u001b[38;5;124;43m'\u001b[39;49m\u001b[38;5;124;43meq_events/final/\u001b[39;49m\u001b[38;5;124;43m'\u001b[39;49m\u001b[43m,\u001b[49m\u001b[43m \u001b[49m\u001b[43mmode\u001b[49m\u001b[38;5;241;43m=\u001b[39;49m\u001b[38;5;124;43m'\u001b[39;49m\u001b[38;5;124;43moverwrite\u001b[39;49m\u001b[38;5;124;43m'\u001b[39;49m\u001b[43m)\u001b[49m\n",
      "File \u001b[0;32m~/spark/spark-3.3.2-bin-hadoop3/python/pyspark/sql/readwriter.py:1140\u001b[0m, in \u001b[0;36mDataFrameWriter.parquet\u001b[0;34m(self, path, mode, partitionBy, compression)\u001b[0m\n\u001b[1;32m   1138\u001b[0m     \u001b[38;5;28mself\u001b[39m\u001b[38;5;241m.\u001b[39mpartitionBy(partitionBy)\n\u001b[1;32m   1139\u001b[0m \u001b[38;5;28mself\u001b[39m\u001b[38;5;241m.\u001b[39m_set_opts(compression\u001b[38;5;241m=\u001b[39mcompression)\n\u001b[0;32m-> 1140\u001b[0m \u001b[38;5;28;43mself\u001b[39;49m\u001b[38;5;241;43m.\u001b[39;49m\u001b[43m_jwrite\u001b[49m\u001b[38;5;241;43m.\u001b[39;49m\u001b[43mparquet\u001b[49m\u001b[43m(\u001b[49m\u001b[43mpath\u001b[49m\u001b[43m)\u001b[49m\n",
      "File \u001b[0;32m/usr/local/python/3.10.13/lib/python3.10/site-packages/py4j/java_gateway.py:1321\u001b[0m, in \u001b[0;36mJavaMember.__call__\u001b[0;34m(self, *args)\u001b[0m\n\u001b[1;32m   1314\u001b[0m args_command, temp_args \u001b[38;5;241m=\u001b[39m \u001b[38;5;28mself\u001b[39m\u001b[38;5;241m.\u001b[39m_build_args(\u001b[38;5;241m*\u001b[39margs)\n\u001b[1;32m   1316\u001b[0m command \u001b[38;5;241m=\u001b[39m proto\u001b[38;5;241m.\u001b[39mCALL_COMMAND_NAME \u001b[38;5;241m+\u001b[39m\\\n\u001b[1;32m   1317\u001b[0m     \u001b[38;5;28mself\u001b[39m\u001b[38;5;241m.\u001b[39mcommand_header \u001b[38;5;241m+\u001b[39m\\\n\u001b[1;32m   1318\u001b[0m     args_command \u001b[38;5;241m+\u001b[39m\\\n\u001b[1;32m   1319\u001b[0m     proto\u001b[38;5;241m.\u001b[39mEND_COMMAND_PART\n\u001b[0;32m-> 1321\u001b[0m answer \u001b[38;5;241m=\u001b[39m \u001b[38;5;28;43mself\u001b[39;49m\u001b[38;5;241;43m.\u001b[39;49m\u001b[43mgateway_client\u001b[49m\u001b[38;5;241;43m.\u001b[39;49m\u001b[43msend_command\u001b[49m\u001b[43m(\u001b[49m\u001b[43mcommand\u001b[49m\u001b[43m)\u001b[49m\n\u001b[1;32m   1322\u001b[0m return_value \u001b[38;5;241m=\u001b[39m get_return_value(\n\u001b[1;32m   1323\u001b[0m     answer, \u001b[38;5;28mself\u001b[39m\u001b[38;5;241m.\u001b[39mgateway_client, \u001b[38;5;28mself\u001b[39m\u001b[38;5;241m.\u001b[39mtarget_id, \u001b[38;5;28mself\u001b[39m\u001b[38;5;241m.\u001b[39mname)\n\u001b[1;32m   1325\u001b[0m \u001b[38;5;28;01mfor\u001b[39;00m temp_arg \u001b[38;5;129;01min\u001b[39;00m temp_args:\n",
      "File \u001b[0;32m/usr/local/python/3.10.13/lib/python3.10/site-packages/py4j/java_gateway.py:1038\u001b[0m, in \u001b[0;36mGatewayClient.send_command\u001b[0;34m(self, command, retry, binary)\u001b[0m\n\u001b[1;32m   1036\u001b[0m connection \u001b[38;5;241m=\u001b[39m \u001b[38;5;28mself\u001b[39m\u001b[38;5;241m.\u001b[39m_get_connection()\n\u001b[1;32m   1037\u001b[0m \u001b[38;5;28;01mtry\u001b[39;00m:\n\u001b[0;32m-> 1038\u001b[0m     response \u001b[38;5;241m=\u001b[39m \u001b[43mconnection\u001b[49m\u001b[38;5;241;43m.\u001b[39;49m\u001b[43msend_command\u001b[49m\u001b[43m(\u001b[49m\u001b[43mcommand\u001b[49m\u001b[43m)\u001b[49m\n\u001b[1;32m   1039\u001b[0m     \u001b[38;5;28;01mif\u001b[39;00m binary:\n\u001b[1;32m   1040\u001b[0m         \u001b[38;5;28;01mreturn\u001b[39;00m response, \u001b[38;5;28mself\u001b[39m\u001b[38;5;241m.\u001b[39m_create_connection_guard(connection)\n",
      "File \u001b[0;32m/usr/local/python/3.10.13/lib/python3.10/site-packages/py4j/clientserver.py:511\u001b[0m, in \u001b[0;36mClientServerConnection.send_command\u001b[0;34m(self, command)\u001b[0m\n\u001b[1;32m    509\u001b[0m \u001b[38;5;28;01mtry\u001b[39;00m:\n\u001b[1;32m    510\u001b[0m     \u001b[38;5;28;01mwhile\u001b[39;00m \u001b[38;5;28;01mTrue\u001b[39;00m:\n\u001b[0;32m--> 511\u001b[0m         answer \u001b[38;5;241m=\u001b[39m smart_decode(\u001b[38;5;28;43mself\u001b[39;49m\u001b[38;5;241;43m.\u001b[39;49m\u001b[43mstream\u001b[49m\u001b[38;5;241;43m.\u001b[39;49m\u001b[43mreadline\u001b[49m\u001b[43m(\u001b[49m\u001b[43m)\u001b[49m[:\u001b[38;5;241m-\u001b[39m\u001b[38;5;241m1\u001b[39m])\n\u001b[1;32m    512\u001b[0m         logger\u001b[38;5;241m.\u001b[39mdebug(\u001b[38;5;124m\"\u001b[39m\u001b[38;5;124mAnswer received: \u001b[39m\u001b[38;5;132;01m{0}\u001b[39;00m\u001b[38;5;124m\"\u001b[39m\u001b[38;5;241m.\u001b[39mformat(answer))\n\u001b[1;32m    513\u001b[0m         \u001b[38;5;66;03m# Happens when a the other end is dead. There might be an empty\u001b[39;00m\n\u001b[1;32m    514\u001b[0m         \u001b[38;5;66;03m# answer before the socket raises an error.\u001b[39;00m\n",
      "File \u001b[0;32m/usr/local/python/3.10.13/lib/python3.10/socket.py:705\u001b[0m, in \u001b[0;36mSocketIO.readinto\u001b[0;34m(self, b)\u001b[0m\n\u001b[1;32m    703\u001b[0m \u001b[38;5;28;01mwhile\u001b[39;00m \u001b[38;5;28;01mTrue\u001b[39;00m:\n\u001b[1;32m    704\u001b[0m     \u001b[38;5;28;01mtry\u001b[39;00m:\n\u001b[0;32m--> 705\u001b[0m         \u001b[38;5;28;01mreturn\u001b[39;00m \u001b[38;5;28;43mself\u001b[39;49m\u001b[38;5;241;43m.\u001b[39;49m\u001b[43m_sock\u001b[49m\u001b[38;5;241;43m.\u001b[39;49m\u001b[43mrecv_into\u001b[49m\u001b[43m(\u001b[49m\u001b[43mb\u001b[49m\u001b[43m)\u001b[49m\n\u001b[1;32m    706\u001b[0m     \u001b[38;5;28;01mexcept\u001b[39;00m timeout:\n\u001b[1;32m    707\u001b[0m         \u001b[38;5;28mself\u001b[39m\u001b[38;5;241m.\u001b[39m_timeout_occurred \u001b[38;5;241m=\u001b[39m \u001b[38;5;28;01mTrue\u001b[39;00m\n",
      "\u001b[0;31mKeyboardInterrupt\u001b[0m: "
     ]
    }
   ],
   "source": [
    "df_final.write.option(\"header\", \"true\").partitionBy('date').parquet('eq_events/final/', mode='overwrite')"
   ]
  },
  {
   "cell_type": "code",
   "execution_count": null,
   "id": "53076d6a-6a67-4f00-9937-71ca4a048ac1",
   "metadata": {},
   "outputs": [],
   "source": [
    "df_final.write.option(\"header\", \"true\").partitionBy('date').parquet('eq_events/final/', mode='overwrite')"
   ]
  },
  {
   "cell_type": "code",
   "execution_count": null,
   "id": "087eb36e-e37d-4a7a-8bbb-7e4327f4054c",
   "metadata": {},
   "outputs": [],
   "source": [
    "df.coalesce(1).write.parquet('eq_events/final/', mode='overwrite')"
   ]
  },
  {
   "cell_type": "code",
   "execution_count": null,
   "id": "ca02275e-e2ea-4969-8415-a40cc044cb41",
   "metadata": {},
   "outputs": [],
   "source": [
    "df.coalesce(1).write.parquet('eq_events/final/', mode='overwrite')"
   ]
  }
 ],
 "metadata": {
  "kernelspec": {
   "display_name": "Python 3 (ipykernel)",
   "language": "python",
   "name": "python3"
  },
  "language_info": {
   "codemirror_mode": {
    "name": "ipython",
    "version": 3
   },
   "file_extension": ".py",
   "mimetype": "text/x-python",
   "name": "python",
   "nbconvert_exporter": "python",
   "pygments_lexer": "ipython3",
   "version": "3.10.13"
  }
 },
 "nbformat": 4,
 "nbformat_minor": 5
}
