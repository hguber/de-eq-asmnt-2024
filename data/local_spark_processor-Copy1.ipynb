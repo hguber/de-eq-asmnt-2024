{
 "cells": [
  {
   "cell_type": "code",
   "execution_count": 2,
   "id": "5666e59f-b4de-4f0c-9eb9-70a97ac3dc42",
   "metadata": {},
   "outputs": [],
   "source": [
    "import pyspark\n",
    "from pyspark.sql import SparkSession\n",
    "from pyspark.conf import SparkConf\n",
    "from pyspark.context import SparkContext\n",
    "from pyspark.sql.functions import date_format"
   ]
  },
  {
   "cell_type": "code",
   "execution_count": 32,
   "id": "3a02237f-d7a2-47eb-ae6e-ee0edb6447c6",
   "metadata": {},
   "outputs": [],
   "source": [
    "credentials_location = '/workspaces/de-eq-asmnt-2024/google_credentials/de-eq-asmnt-2024-6ee51b1c99e1.json'\n",
    "conf = SparkConf() \\\n",
    "    .setMaster('local[*]') \\\n",
    "    .setAppName('test') \\\n",
    "    .set(\"spark.jars\", \"./lib/gcs-connector-hadoop3-2.2.5.jar\") \\\n",
    "    .set(\"spark.jars\", \"./lib/spark-bigquery-with-dependencies_2.12-0.23.2.jar\") \\\n",
    "    .set(\"spark.hadoop.google.cloud.auth.service.account.enable\", \"true\") \\\n",
    "    .set(\"spark.hadoop.google.cloud.auth.service.account.json.keyfile\", credentials_location)"
   ]
  },
  {
   "cell_type": "code",
   "execution_count": 34,
   "id": "e800e483-c8b6-4030-9e1e-90d8a307387e",
   "metadata": {},
   "outputs": [],
   "source": [
    "sc = SparkContext.getOrCreate(conf=conf)\n",
    "\n",
    "hadoop_conf = sc._jsc.hadoopConfiguration()\n",
    "hadoop_conf.set(\"fs.AbstractFileSystem.gs.impl\",  \"com.google.cloud.hadoop.fs.gcs.GoogleHadoopFS\")\n",
    "hadoop_conf.set(\"fs.gs.impl\", \"com.google.cloud.hadoop.fs.gcs.GoogleHadoopFileSystem\")\n",
    "hadoop_conf.set(\"fs.gs.auth.service.account.json.keyfile\", credentials_location)\n",
    "hadoop_conf.set(\"fs.gs.auth.service.account.enable\", \"true\")"
   ]
  },
  {
   "cell_type": "code",
   "execution_count": 40,
   "id": "c66423f7-a339-450a-aa69-614a47bf3010",
   "metadata": {},
   "outputs": [],
   "source": [
    "gs_bucket_raw = 'gs://de-eq-asmnt-2024-raw-bucket'\n",
    "gs_bucket_stage = 'gs://de-eq-asmnt-2024-staging-bucket'"
   ]
  },
  {
   "cell_type": "code",
   "execution_count": 41,
   "id": "2a95e01a-d931-4b95-a903-4df392a0c98d",
   "metadata": {},
   "outputs": [],
   "source": [
    "spark = SparkSession.builder \\\n",
    "    .config(conf=sc.getConf()) \\\n",
    "    .getOrCreate()"
   ]
  },
  {
   "cell_type": "code",
   "execution_count": 44,
   "id": "a7a3fd87-1e45-4a8f-9d7f-f5ee3d9a932c",
   "metadata": {},
   "outputs": [
    {
     "name": "stderr",
     "output_type": "stream",
     "text": [
      "                                                                                \r"
     ]
    }
   ],
   "source": [
    "df = spark.read.csv(gs_bucket_raw + '/eq_events/raw/*/*', header='true')"
   ]
  },
  {
   "cell_type": "code",
   "execution_count": 45,
   "id": "bdac1ca6-ee92-47b5-ba22-740e76caf5fe",
   "metadata": {},
   "outputs": [],
   "source": [
    "df = df.withColumn(\"year\", date_format(df.date, \"yyyy\")).withColumn(\"month\", date_format(df.date, \"MM\"))"
   ]
  },
  {
   "cell_type": "code",
   "execution_count": 46,
   "id": "6d064faa-ace6-4824-8719-1e82b3f1ecf4",
   "metadata": {},
   "outputs": [
    {
     "name": "stdout",
     "output_type": "stream",
     "text": [
      "24/04/17 04:26:06 WARN CSVHeaderChecker: CSV header does not conform to the schema.\n",
      " Header: , event_id, datetime, location, latitude, longitude, depth, magnitude, significance, alert, country, date, timestamp, level\n",
      " Schema: _c0, event_id, datetime, location, latitude, longitude, depth, magnitude, significance, alert, country, date, timestamp, level\n",
      "Expected: _c0 but found: \n",
      "CSV file: gs://de-eq-asmnt-2024-raw-bucket/eq_events/raw/raw/eq_events_2005/eq_events_2005_10.csv\n",
      "+------+----------+--------------------+--------------------+--------+------------+------+---------+------------+-----+-------+----------+---------------+-----+----+-----+\n",
      "|   _c0|  event_id|            datetime|            location|latitude|   longitude| depth|magnitude|significance|alert|country|      date|      timestamp|level|year|month|\n",
      "+------+----------+--------------------+--------------------+--------+------------+------+---------+------------+-----+-------+----------+---------------+-----+----+-----+\n",
      "|564993|usp000e0m6|2005-10-01 00:05:...|148 km SSW of Kok...|  -5.556|     151.689|  74.4|      4.3|         284|  nan|    PNG|2005-10-01|00:05:42.720000|light|2005|   10|\n",
      "|313162|usp000e0m7|2005-10-01 00:15:...|245 km WSW of Tua...|  -6.559|     130.735|  16.9|      4.5|         312|  nan|    IDN|2005-10-01|00:15:12.910000|light|2005|   10|\n",
      "|313163|usp000e0m8|2005-10-01 00:16:...|51 km NW of Sinab...|   2.754|      96.007|  25.2|      4.3|         284|  nan|    IDN|2005-10-01|00:16:31.090000|light|2005|   10|\n",
      "|564994|usp000e0m9|2005-10-01 00:33:...|138 km SSW of Kok...|  -5.442|     151.666|  65.6|      4.2|         271|  nan|    PNG|2005-10-01|00:33:46.950000|light|2005|   10|\n",
      "|700351|ci14189148|2005-10-01 01:22:...|5km SSE of Redlan...| 34.0175|-117.1641667|11.074|     3.04|         180|  nan|    USA|2005-10-01|01:22:10.520000|minor|2005|   10|\n",
      "|564995|usp000e0me|2005-10-01 02:28:...|146 km SSW of Kok...|  -5.545|     151.722|  55.4|      4.8|         354|  nan|    PNG|2005-10-01|02:28:19.350000|light|2005|   10|\n",
      "|397395|usp000e0mf|2005-10-01 02:43:...|Izu Islands, Japa...|  31.496|     140.232| 102.8|      4.0|         246|  nan|    JPN|2005-10-01|02:43:41.440000|light|2005|   10|\n",
      "| 31421|usp000e0mg|2005-10-01 02:53:...|4 km WNW of Albar...| -31.426|     -68.566|  58.3|      3.6|         199|  nan|    ARG|2005-10-01|02:53:53.650000|minor|2005|   10|\n",
      "|105247|usp000e0mg|2005-10-01 02:53:...|4 km WNW of Albar...| -31.426|     -68.566|  58.3|      3.6|         199|  nan|    BRA|2005-10-01|02:53:53.650000|minor|2005|   10|\n",
      "|156402|usp000e0mg|2005-10-01 02:53:...|4 km WNW of Albar...| -31.426|     -68.566|  58.3|      3.6|         199|  nan|    CHL|2005-10-01|02:53:53.650000|minor|2005|   10|\n",
      "|494537|usp000e0mg|2005-10-01 02:53:...|4 km WNW of Albar...| -31.426|     -68.566|  58.3|      3.6|         199|  nan|    NZL|2005-10-01|02:53:53.650000|minor|2005|   10|\n",
      "|397396|usp000e0mh|2005-10-01 03:00:...|4 km E of Ichihar...|  35.525|     140.136|  69.3|      4.3|         284|  nan|    JPN|2005-10-01|03:00:20.160000|light|2005|   10|\n",
      "|564996|usp000e0mj|2005-10-01 03:12:...|154 km SSW of Kok...|  -5.603|     151.674|  81.6|      4.8|         354|  nan|    PNG|2005-10-01|03:12:53.770000|light|2005|   10|\n",
      "|239784|usp000e0mk|2005-10-01 04:16:...|91 km NNW of Seme...|  12.598|      40.822|  10.0|      4.5|         312|  nan|    ERI|2005-10-01|04:16:21.150000|light|2005|   10|\n",
      "|245990|usp000e0mk|2005-10-01 04:16:...|91 km NNW of Seme...|  12.598|      40.822|  10.0|      4.5|         312|  nan|    ETH|2005-10-01|04:16:21.150000|light|2005|   10|\n",
      "|564997|usp000e0mm|2005-10-01 04:24:...|152 km SSW of Kok...|  -5.623|     151.748|  62.3|      4.4|         298|  nan|    PNG|2005-10-01|04:24:08.780000|light|2005|   10|\n",
      "|441345|usp000e0mn|2005-10-01 04:40:...|3 km NNE of Monte...|  16.417|     -98.487|   8.8|      3.6|         199|  nan|    MEX|2005-10-01|04:40:19.100000|minor|2005|   10|\n",
      "|269019|usp000e0mp|2005-10-01 04:42:...|3 km WSW of Pýrgo...|   37.66|        21.4|  18.0|      3.2|         158|  nan|    GRC|2005-10-01|04:42:19.600000|minor|2005|   10|\n",
      "|397397|usp000e0mq|2005-10-01 05:06:...|16 km SE of T?gan...|  35.437|     140.479|  63.5|      4.3|         284|  nan|    JPN|2005-10-01|05:06:34.590000|light|2005|   10|\n",
      "|461856|usp000e0mr|2005-10-01 05:23:...|Maug Islands regi...|  19.288|     145.456| 170.9|      4.4|         298|  nan|    MNP|2005-10-01|05:23:28.290000|light|2005|   10|\n",
      "+------+----------+--------------------+--------------------+--------+------------+------+---------+------------+-----+-------+----------+---------------+-----+----+-----+\n",
      "only showing top 20 rows\n",
      "\n"
     ]
    }
   ],
   "source": [
    "df.show()"
   ]
  },
  {
   "cell_type": "code",
   "execution_count": 47,
   "id": "756b0198-2d66-421b-8a45-6b1d5127b81f",
   "metadata": {},
   "outputs": [],
   "source": [
    "df = df.drop('_c0')"
   ]
  },
  {
   "cell_type": "code",
   "execution_count": 48,
   "id": "03b504fe-6532-4607-9d16-1ae167a4c71e",
   "metadata": {},
   "outputs": [],
   "source": [
    "df.registerTempTable('eq_events')"
   ]
  },
  {
   "cell_type": "code",
   "execution_count": 49,
   "id": "4491374f-8f2e-4915-b02e-e9a5206a9b1e",
   "metadata": {},
   "outputs": [],
   "source": [
    "df_final = spark.sql(\"\"\"\n",
    "select *\n",
    "from eq_events\n",
    "cluster by country\n",
    "\"\"\")"
   ]
  },
  {
   "cell_type": "code",
   "execution_count": 50,
   "id": "1a51320b-5daa-4104-a5f3-f78dcac74fac",
   "metadata": {},
   "outputs": [],
   "source": [
    "df_monthly = spark.sql(\"\"\"\n",
    "select \n",
    "    country, \n",
    "    date_trunc('month', date) as eq_month,\n",
    "    COUNT(event_id) as events_occ,\n",
    "    avg(depth) as avg_depth_month,\n",
    "    avg(magnitude) as avg_mag_month,\n",
    "    avg(significance) as avg_sig_month,\n",
    "    max(depth) as max_depth_month,\n",
    "    max(magnitude) as max_mag_month,\n",
    "    max(significance) as max_sig_month,\n",
    "    min(depth) as min_depth_month,\n",
    "    min(magnitude) as min_mag_month,\n",
    "    min(significance) as min_sig_month\n",
    "from eq_events\n",
    "group by 1,2\n",
    "cluster by country\n",
    "\"\"\")"
   ]
  },
  {
   "cell_type": "code",
   "execution_count": 51,
   "id": "98f0e73e-53dd-40ab-b8a9-eb9e1f7e28c1",
   "metadata": {},
   "outputs": [],
   "source": [
    "df_week = spark.sql(\"\"\"\n",
    "select \n",
    "    country, \n",
    "    date_trunc('week', date) as eq_week,\n",
    "    COUNT(event_id) as events_occ,\n",
    "    avg(depth) as avg_depth_week,\n",
    "    avg(magnitude) as avg_mag_week,\n",
    "    avg(significance) as avg_sig_week,\n",
    "    max(depth) as max_depth_week,\n",
    "    max(magnitude) as max_mag_week,\n",
    "    max(significance) as max_sig_week,\n",
    "    min(depth) as min_depth_week,\n",
    "    min(magnitude) as min_mag_week,\n",
    "    min(significance) as min_sig_week\n",
    "from eq_events\n",
    "group by 1,2\n",
    "cluster by country\n",
    "\"\"\")"
   ]
  },
  {
   "cell_type": "code",
   "execution_count": 52,
   "id": "c1dbcfdd-6d85-46cf-ac07-32d7ae5f4c7d",
   "metadata": {},
   "outputs": [],
   "source": [
    "df_daily = spark.sql(\"\"\"\n",
    "select \n",
    "    country, \n",
    "    date,\n",
    "    COUNT(event_id) as events_occ,\n",
    "    avg(depth) as avg_depth_day,\n",
    "    avg(magnitude) as avg_mag_day,\n",
    "    avg(significance) as avg_sig_day,\n",
    "    max(depth) as max_depth_day,\n",
    "    max(magnitude) as max_mag_day,\n",
    "    max(significance) as max_sig_day,\n",
    "    min(depth) as min_depth_day,\n",
    "    min(magnitude) as min_mag_day,\n",
    "    min(significance) as min_sig_day\n",
    "from eq_events\n",
    "group by 1,2 \n",
    "cluster by country\n",
    "\"\"\")"
   ]
  },
  {
   "cell_type": "code",
   "execution_count": 53,
   "id": "75195c67-9bc5-4f13-8e27-2e3667469a3a",
   "metadata": {},
   "outputs": [
    {
     "name": "stderr",
     "output_type": "stream",
     "text": [
      "                                                                                \r"
     ]
    },
    {
     "data": {
      "text/plain": [
       "34963"
      ]
     },
     "execution_count": 53,
     "metadata": {},
     "output_type": "execute_result"
    }
   ],
   "source": [
    "df_monthly.count()"
   ]
  },
  {
   "cell_type": "code",
   "execution_count": 18,
   "id": "b7d70f1e-079d-42d8-9bf9-4955050355da",
   "metadata": {},
   "outputs": [
    {
     "name": "stderr",
     "output_type": "stream",
     "text": [
      "                                                                                \r"
     ]
    }
   ],
   "source": [
    "df.coalesce(1).write.option(\"header\", \"true\").partitionBy('year', 'month').parquet(gs_bucket + '/eq_events/processed/final', mode='overwrite')"
   ]
  },
  {
   "cell_type": "code",
   "execution_count": 19,
   "id": "53076d6a-6a67-4f00-9937-71ca4a048ac1",
   "metadata": {},
   "outputs": [
    {
     "name": "stderr",
     "output_type": "stream",
     "text": [
      "                                                                                \r"
     ]
    }
   ],
   "source": [
    "df_week.coalesce(1).write.option(\"header\", \"true\").partitionBy('eq_week').parquet(gs_bucket + '/eq_events/processed/weekly/', mode='overwrite')"
   ]
  },
  {
   "cell_type": "code",
   "execution_count": 20,
   "id": "087eb36e-e37d-4a7a-8bbb-7e4327f4054c",
   "metadata": {},
   "outputs": [
    {
     "name": "stderr",
     "output_type": "stream",
     "text": [
      "                                                                                \r"
     ]
    }
   ],
   "source": [
    "df_monthly.coalesce(1).write.option(\"header\", \"true\").partitionBy('eq_month').parquet(gs_bucket + '/eq_events/processed/monthly/', mode='overwrite')"
   ]
  },
  {
   "cell_type": "code",
   "execution_count": 22,
   "id": "ca02275e-e2ea-4969-8415-a40cc044cb41",
   "metadata": {},
   "outputs": [
    {
     "name": "stderr",
     "output_type": "stream",
     "text": [
      "                                                                                \r"
     ]
    }
   ],
   "source": [
    "df_daily.coalesce(1).write.option(\"header\", \"true\").parquet(gs_bucket + '/eq_events/processed/daily/', mode='overwrite')"
   ]
  },
  {
   "cell_type": "code",
   "execution_count": null,
   "id": "8944eb9e-b02a-4010-a9f6-47f55feb1497",
   "metadata": {},
   "outputs": [],
   "source": [
    "df.coalesce(1).write.option(\"header\", \"true\").partitionBy('year', 'month').parquet(gs_bucket + '/eq_events/processed/final', mode='overwrite')\n",
    "df_week.coalesce(1).write.option(\"header\", \"true\").partitionBy('eq_week').parquet(gs_bucket + '/eq_events/processed/weekly/', mode='overwrite')\n",
    "df_monthly.coalesce(1).write.option(\"header\", \"true\").partitionBy('eq_month').parquet(gs_bucket + '/eq_events/processed/monthly/', mode='overwrite')\n",
    "df_daily.coalesce(1).write.option(\"header\", \"true\").parquet(gs_bucket + '/eq_events/processed/daily/', mode='overwrite')"
   ]
  },
  {
   "cell_type": "code",
   "execution_count": 54,
   "id": "8d21398f-a88f-4c78-979c-08e2ba49bfb1",
   "metadata": {},
   "outputs": [
    {
     "ename": "Py4JJavaError",
     "evalue": "An error occurred while calling o378.save.\n: java.lang.ClassNotFoundException: \nFailed to find data source: bigquery. Please find packages at\nhttps://spark.apache.org/third-party-projects.html\n       \n\tat org.apache.spark.sql.errors.QueryExecutionErrors$.failedToFindDataSourceError(QueryExecutionErrors.scala:587)\n\tat org.apache.spark.sql.execution.datasources.DataSource$.lookupDataSource(DataSource.scala:675)\n\tat org.apache.spark.sql.execution.datasources.DataSource$.lookupDataSourceV2(DataSource.scala:725)\n\tat org.apache.spark.sql.DataFrameWriter.lookupV2Provider(DataFrameWriter.scala:864)\n\tat org.apache.spark.sql.DataFrameWriter.saveInternal(DataFrameWriter.scala:256)\n\tat org.apache.spark.sql.DataFrameWriter.save(DataFrameWriter.scala:247)\n\tat java.base/jdk.internal.reflect.NativeMethodAccessorImpl.invoke0(Native Method)\n\tat java.base/jdk.internal.reflect.NativeMethodAccessorImpl.invoke(NativeMethodAccessorImpl.java:62)\n\tat java.base/jdk.internal.reflect.DelegatingMethodAccessorImpl.invoke(DelegatingMethodAccessorImpl.java:43)\n\tat java.base/java.lang.reflect.Method.invoke(Method.java:566)\n\tat py4j.reflection.MethodInvoker.invoke(MethodInvoker.java:244)\n\tat py4j.reflection.ReflectionEngine.invoke(ReflectionEngine.java:357)\n\tat py4j.Gateway.invoke(Gateway.java:282)\n\tat py4j.commands.AbstractCommand.invokeMethod(AbstractCommand.java:132)\n\tat py4j.commands.CallCommand.execute(CallCommand.java:79)\n\tat py4j.ClientServerConnection.waitForCommands(ClientServerConnection.java:182)\n\tat py4j.ClientServerConnection.run(ClientServerConnection.java:106)\n\tat java.base/java.lang.Thread.run(Thread.java:834)\nCaused by: java.lang.ClassNotFoundException: bigquery.DefaultSource\n\tat java.base/java.net.URLClassLoader.findClass(URLClassLoader.java:471)\n\tat java.base/java.lang.ClassLoader.loadClass(ClassLoader.java:588)\n\tat java.base/java.lang.ClassLoader.loadClass(ClassLoader.java:521)\n\tat org.apache.spark.sql.execution.datasources.DataSource$.$anonfun$lookupDataSource$5(DataSource.scala:661)\n\tat scala.util.Try$.apply(Try.scala:213)\n\tat org.apache.spark.sql.execution.datasources.DataSource$.$anonfun$lookupDataSource$4(DataSource.scala:661)\n\tat scala.util.Failure.orElse(Try.scala:224)\n\tat org.apache.spark.sql.execution.datasources.DataSource$.lookupDataSource(DataSource.scala:661)\n\t... 16 more\n",
     "output_type": "error",
     "traceback": [
      "\u001b[0;31m---------------------------------------------------------------------------\u001b[0m",
      "\u001b[0;31mPy4JJavaError\u001b[0m                             Traceback (most recent call last)",
      "Cell \u001b[0;32mIn[54], line 1\u001b[0m\n\u001b[0;32m----> 1\u001b[0m \u001b[43mdf_daily\u001b[49m\u001b[38;5;241;43m.\u001b[39;49m\u001b[43mwrite\u001b[49m\u001b[38;5;241;43m.\u001b[39;49m\u001b[43mformat\u001b[49m\u001b[43m(\u001b[49m\u001b[38;5;124;43m'\u001b[39;49m\u001b[38;5;124;43mbigquery\u001b[39;49m\u001b[38;5;124;43m'\u001b[39;49m\u001b[43m)\u001b[49m\u001b[38;5;241;43m.\u001b[39;49m\u001b[43moption\u001b[49m\u001b[43m(\u001b[49m\u001b[38;5;124;43m'\u001b[39;49m\u001b[38;5;124;43mtable\u001b[39;49m\u001b[38;5;124;43m'\u001b[39;49m\u001b[43m,\u001b[49m\u001b[43m \u001b[49m\u001b[38;5;124;43m'\u001b[39;49m\u001b[38;5;124;43meq_events.eq_daily\u001b[39;49m\u001b[38;5;124;43m'\u001b[39;49m\u001b[43m)\u001b[49m\u001b[38;5;241;43m.\u001b[39;49m\u001b[43moption\u001b[49m\u001b[43m(\u001b[49m\u001b[38;5;124;43m\"\u001b[39;49m\u001b[38;5;124;43mheader\u001b[39;49m\u001b[38;5;124;43m\"\u001b[39;49m\u001b[43m,\u001b[49m\u001b[43m \u001b[49m\u001b[38;5;124;43m\"\u001b[39;49m\u001b[38;5;124;43mtrue\u001b[39;49m\u001b[38;5;124;43m\"\u001b[39;49m\u001b[43m)\u001b[49m\u001b[38;5;241;43m.\u001b[39;49m\u001b[43msave\u001b[49m\u001b[43m(\u001b[49m\u001b[43m)\u001b[49m\n",
      "File \u001b[0;32m~/spark/spark-3.3.2-bin-hadoop3/python/pyspark/sql/readwriter.py:966\u001b[0m, in \u001b[0;36mDataFrameWriter.save\u001b[0;34m(self, path, format, mode, partitionBy, **options)\u001b[0m\n\u001b[1;32m    964\u001b[0m     \u001b[38;5;28mself\u001b[39m\u001b[38;5;241m.\u001b[39mformat(\u001b[38;5;28mformat\u001b[39m)\n\u001b[1;32m    965\u001b[0m \u001b[38;5;28;01mif\u001b[39;00m path \u001b[38;5;129;01mis\u001b[39;00m \u001b[38;5;28;01mNone\u001b[39;00m:\n\u001b[0;32m--> 966\u001b[0m     \u001b[38;5;28;43mself\u001b[39;49m\u001b[38;5;241;43m.\u001b[39;49m\u001b[43m_jwrite\u001b[49m\u001b[38;5;241;43m.\u001b[39;49m\u001b[43msave\u001b[49m\u001b[43m(\u001b[49m\u001b[43m)\u001b[49m\n\u001b[1;32m    967\u001b[0m \u001b[38;5;28;01melse\u001b[39;00m:\n\u001b[1;32m    968\u001b[0m     \u001b[38;5;28mself\u001b[39m\u001b[38;5;241m.\u001b[39m_jwrite\u001b[38;5;241m.\u001b[39msave(path)\n",
      "File \u001b[0;32m/usr/local/python/3.10.13/lib/python3.10/site-packages/py4j/java_gateway.py:1322\u001b[0m, in \u001b[0;36mJavaMember.__call__\u001b[0;34m(self, *args)\u001b[0m\n\u001b[1;32m   1316\u001b[0m command \u001b[38;5;241m=\u001b[39m proto\u001b[38;5;241m.\u001b[39mCALL_COMMAND_NAME \u001b[38;5;241m+\u001b[39m\\\n\u001b[1;32m   1317\u001b[0m     \u001b[38;5;28mself\u001b[39m\u001b[38;5;241m.\u001b[39mcommand_header \u001b[38;5;241m+\u001b[39m\\\n\u001b[1;32m   1318\u001b[0m     args_command \u001b[38;5;241m+\u001b[39m\\\n\u001b[1;32m   1319\u001b[0m     proto\u001b[38;5;241m.\u001b[39mEND_COMMAND_PART\n\u001b[1;32m   1321\u001b[0m answer \u001b[38;5;241m=\u001b[39m \u001b[38;5;28mself\u001b[39m\u001b[38;5;241m.\u001b[39mgateway_client\u001b[38;5;241m.\u001b[39msend_command(command)\n\u001b[0;32m-> 1322\u001b[0m return_value \u001b[38;5;241m=\u001b[39m \u001b[43mget_return_value\u001b[49m\u001b[43m(\u001b[49m\n\u001b[1;32m   1323\u001b[0m \u001b[43m    \u001b[49m\u001b[43manswer\u001b[49m\u001b[43m,\u001b[49m\u001b[43m \u001b[49m\u001b[38;5;28;43mself\u001b[39;49m\u001b[38;5;241;43m.\u001b[39;49m\u001b[43mgateway_client\u001b[49m\u001b[43m,\u001b[49m\u001b[43m \u001b[49m\u001b[38;5;28;43mself\u001b[39;49m\u001b[38;5;241;43m.\u001b[39;49m\u001b[43mtarget_id\u001b[49m\u001b[43m,\u001b[49m\u001b[43m \u001b[49m\u001b[38;5;28;43mself\u001b[39;49m\u001b[38;5;241;43m.\u001b[39;49m\u001b[43mname\u001b[49m\u001b[43m)\u001b[49m\n\u001b[1;32m   1325\u001b[0m \u001b[38;5;28;01mfor\u001b[39;00m temp_arg \u001b[38;5;129;01min\u001b[39;00m temp_args:\n\u001b[1;32m   1326\u001b[0m     \u001b[38;5;28;01mif\u001b[39;00m \u001b[38;5;28mhasattr\u001b[39m(temp_arg, \u001b[38;5;124m\"\u001b[39m\u001b[38;5;124m_detach\u001b[39m\u001b[38;5;124m\"\u001b[39m):\n",
      "File \u001b[0;32m~/spark/spark-3.3.2-bin-hadoop3/python/pyspark/sql/utils.py:190\u001b[0m, in \u001b[0;36mcapture_sql_exception.<locals>.deco\u001b[0;34m(*a, **kw)\u001b[0m\n\u001b[1;32m    188\u001b[0m \u001b[38;5;28;01mdef\u001b[39;00m \u001b[38;5;21mdeco\u001b[39m(\u001b[38;5;241m*\u001b[39ma: Any, \u001b[38;5;241m*\u001b[39m\u001b[38;5;241m*\u001b[39mkw: Any) \u001b[38;5;241m-\u001b[39m\u001b[38;5;241m>\u001b[39m Any:\n\u001b[1;32m    189\u001b[0m     \u001b[38;5;28;01mtry\u001b[39;00m:\n\u001b[0;32m--> 190\u001b[0m         \u001b[38;5;28;01mreturn\u001b[39;00m \u001b[43mf\u001b[49m\u001b[43m(\u001b[49m\u001b[38;5;241;43m*\u001b[39;49m\u001b[43ma\u001b[49m\u001b[43m,\u001b[49m\u001b[43m \u001b[49m\u001b[38;5;241;43m*\u001b[39;49m\u001b[38;5;241;43m*\u001b[39;49m\u001b[43mkw\u001b[49m\u001b[43m)\u001b[49m\n\u001b[1;32m    191\u001b[0m     \u001b[38;5;28;01mexcept\u001b[39;00m Py4JJavaError \u001b[38;5;28;01mas\u001b[39;00m e:\n\u001b[1;32m    192\u001b[0m         converted \u001b[38;5;241m=\u001b[39m convert_exception(e\u001b[38;5;241m.\u001b[39mjava_exception)\n",
      "File \u001b[0;32m/usr/local/python/3.10.13/lib/python3.10/site-packages/py4j/protocol.py:326\u001b[0m, in \u001b[0;36mget_return_value\u001b[0;34m(answer, gateway_client, target_id, name)\u001b[0m\n\u001b[1;32m    324\u001b[0m value \u001b[38;5;241m=\u001b[39m OUTPUT_CONVERTER[\u001b[38;5;28mtype\u001b[39m](answer[\u001b[38;5;241m2\u001b[39m:], gateway_client)\n\u001b[1;32m    325\u001b[0m \u001b[38;5;28;01mif\u001b[39;00m answer[\u001b[38;5;241m1\u001b[39m] \u001b[38;5;241m==\u001b[39m REFERENCE_TYPE:\n\u001b[0;32m--> 326\u001b[0m     \u001b[38;5;28;01mraise\u001b[39;00m Py4JJavaError(\n\u001b[1;32m    327\u001b[0m         \u001b[38;5;124m\"\u001b[39m\u001b[38;5;124mAn error occurred while calling \u001b[39m\u001b[38;5;132;01m{0}\u001b[39;00m\u001b[38;5;132;01m{1}\u001b[39;00m\u001b[38;5;132;01m{2}\u001b[39;00m\u001b[38;5;124m.\u001b[39m\u001b[38;5;130;01m\\n\u001b[39;00m\u001b[38;5;124m\"\u001b[39m\u001b[38;5;241m.\u001b[39m\n\u001b[1;32m    328\u001b[0m         \u001b[38;5;28mformat\u001b[39m(target_id, \u001b[38;5;124m\"\u001b[39m\u001b[38;5;124m.\u001b[39m\u001b[38;5;124m\"\u001b[39m, name), value)\n\u001b[1;32m    329\u001b[0m \u001b[38;5;28;01melse\u001b[39;00m:\n\u001b[1;32m    330\u001b[0m     \u001b[38;5;28;01mraise\u001b[39;00m Py4JError(\n\u001b[1;32m    331\u001b[0m         \u001b[38;5;124m\"\u001b[39m\u001b[38;5;124mAn error occurred while calling \u001b[39m\u001b[38;5;132;01m{0}\u001b[39;00m\u001b[38;5;132;01m{1}\u001b[39;00m\u001b[38;5;132;01m{2}\u001b[39;00m\u001b[38;5;124m. Trace:\u001b[39m\u001b[38;5;130;01m\\n\u001b[39;00m\u001b[38;5;132;01m{3}\u001b[39;00m\u001b[38;5;130;01m\\n\u001b[39;00m\u001b[38;5;124m\"\u001b[39m\u001b[38;5;241m.\u001b[39m\n\u001b[1;32m    332\u001b[0m         \u001b[38;5;28mformat\u001b[39m(target_id, \u001b[38;5;124m\"\u001b[39m\u001b[38;5;124m.\u001b[39m\u001b[38;5;124m\"\u001b[39m, name, value))\n",
      "\u001b[0;31mPy4JJavaError\u001b[0m: An error occurred while calling o378.save.\n: java.lang.ClassNotFoundException: \nFailed to find data source: bigquery. Please find packages at\nhttps://spark.apache.org/third-party-projects.html\n       \n\tat org.apache.spark.sql.errors.QueryExecutionErrors$.failedToFindDataSourceError(QueryExecutionErrors.scala:587)\n\tat org.apache.spark.sql.execution.datasources.DataSource$.lookupDataSource(DataSource.scala:675)\n\tat org.apache.spark.sql.execution.datasources.DataSource$.lookupDataSourceV2(DataSource.scala:725)\n\tat org.apache.spark.sql.DataFrameWriter.lookupV2Provider(DataFrameWriter.scala:864)\n\tat org.apache.spark.sql.DataFrameWriter.saveInternal(DataFrameWriter.scala:256)\n\tat org.apache.spark.sql.DataFrameWriter.save(DataFrameWriter.scala:247)\n\tat java.base/jdk.internal.reflect.NativeMethodAccessorImpl.invoke0(Native Method)\n\tat java.base/jdk.internal.reflect.NativeMethodAccessorImpl.invoke(NativeMethodAccessorImpl.java:62)\n\tat java.base/jdk.internal.reflect.DelegatingMethodAccessorImpl.invoke(DelegatingMethodAccessorImpl.java:43)\n\tat java.base/java.lang.reflect.Method.invoke(Method.java:566)\n\tat py4j.reflection.MethodInvoker.invoke(MethodInvoker.java:244)\n\tat py4j.reflection.ReflectionEngine.invoke(ReflectionEngine.java:357)\n\tat py4j.Gateway.invoke(Gateway.java:282)\n\tat py4j.commands.AbstractCommand.invokeMethod(AbstractCommand.java:132)\n\tat py4j.commands.CallCommand.execute(CallCommand.java:79)\n\tat py4j.ClientServerConnection.waitForCommands(ClientServerConnection.java:182)\n\tat py4j.ClientServerConnection.run(ClientServerConnection.java:106)\n\tat java.base/java.lang.Thread.run(Thread.java:834)\nCaused by: java.lang.ClassNotFoundException: bigquery.DefaultSource\n\tat java.base/java.net.URLClassLoader.findClass(URLClassLoader.java:471)\n\tat java.base/java.lang.ClassLoader.loadClass(ClassLoader.java:588)\n\tat java.base/java.lang.ClassLoader.loadClass(ClassLoader.java:521)\n\tat org.apache.spark.sql.execution.datasources.DataSource$.$anonfun$lookupDataSource$5(DataSource.scala:661)\n\tat scala.util.Try$.apply(Try.scala:213)\n\tat org.apache.spark.sql.execution.datasources.DataSource$.$anonfun$lookupDataSource$4(DataSource.scala:661)\n\tat scala.util.Failure.orElse(Try.scala:224)\n\tat org.apache.spark.sql.execution.datasources.DataSource$.lookupDataSource(DataSource.scala:661)\n\t... 16 more\n"
     ]
    }
   ],
   "source": [
    "df_daily.write.format('bigquery').option('table', 'eq_events.eq_daily').option(\"header\", \"true\").save()"
   ]
  },
  {
   "cell_type": "code",
   "execution_count": null,
   "id": "58264b16-bbf3-419a-8601-a60c113b569b",
   "metadata": {},
   "outputs": [],
   "source": []
  }
 ],
 "metadata": {
  "kernelspec": {
   "display_name": "Python 3 (ipykernel)",
   "language": "python",
   "name": "python3"
  },
  "language_info": {
   "codemirror_mode": {
    "name": "ipython",
    "version": 3
   },
   "file_extension": ".py",
   "mimetype": "text/x-python",
   "name": "python",
   "nbconvert_exporter": "python",
   "pygments_lexer": "ipython3",
   "version": "3.10.13"
  }
 },
 "nbformat": 4,
 "nbformat_minor": 5
}
