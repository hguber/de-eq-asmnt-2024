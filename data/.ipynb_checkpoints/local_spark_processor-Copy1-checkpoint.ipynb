{
 "cells": [
  {
   "cell_type": "code",
   "execution_count": 137,
   "id": "5666e59f-b4de-4f0c-9eb9-70a97ac3dc42",
   "metadata": {},
   "outputs": [],
   "source": [
    "import pyspark\n",
    "from pyspark.sql import SparkSession\n",
    "from pyspark.conf import SparkConf\n",
    "from pyspark.context import SparkContext\n",
    "from pyspark.sql.functions import date_format"
   ]
  },
  {
   "cell_type": "code",
   "execution_count": 3,
   "id": "3a02237f-d7a2-47eb-ae6e-ee0edb6447c6",
   "metadata": {},
   "outputs": [],
   "source": [
    "credentials_location = '/workspaces/de-eq-asmnt-2024/google_credentials/de-eq-asmnt-2024-6ee51b1c99e1.json'\n",
    "\n",
    "conf = SparkConf() \\\n",
    "    .setMaster('local[*]') \\\n",
    "    .setAppName('test') \\\n",
    "    .set(\"spark.jars\", \"./lib/gcs-connector-hadoop3-2.2.5.jar\") \\\n",
    "    .set(\"spark.hadoop.google.cloud.auth.service.account.enable\", \"true\") \\\n",
    "    .set(\"spark.hadoop.google.cloud.auth.service.account.json.keyfile\", credentials_location)"
   ]
  },
  {
   "cell_type": "code",
   "execution_count": 4,
   "id": "e800e483-c8b6-4030-9e1e-90d8a307387e",
   "metadata": {},
   "outputs": [
    {
     "name": "stdout",
     "output_type": "stream",
     "text": [
      "24/04/17 00:56:41 WARN Utils: Your hostname, codespaces-ff0b25 resolves to a loopback address: 127.0.0.1; using 172.16.5.4 instead (on interface eth0)\n",
      "24/04/17 00:56:41 WARN Utils: Set SPARK_LOCAL_IP if you need to bind to another address\n",
      "24/04/17 00:56:42 WARN NativeCodeLoader: Unable to load native-hadoop library for your platform... using builtin-java classes where applicable\n"
     ]
    },
    {
     "name": "stderr",
     "output_type": "stream",
     "text": [
      "Setting default log level to \"WARN\".\n",
      "To adjust logging level use sc.setLogLevel(newLevel). For SparkR, use setLogLevel(newLevel).\n"
     ]
    }
   ],
   "source": [
    "sc = SparkContext(conf=conf)\n",
    "\n",
    "hadoop_conf = sc._jsc.hadoopConfiguration()\n",
    "\n",
    "hadoop_conf.set(\"fs.AbstractFileSystem.gs.impl\",  \"com.google.cloud.hadoop.fs.gcs.GoogleHadoopFS\")\n",
    "hadoop_conf.set(\"fs.gs.impl\", \"com.google.cloud.hadoop.fs.gcs.GoogleHadoopFileSystem\")\n",
    "hadoop_conf.set(\"fs.gs.auth.service.account.json.keyfile\", credentials_location)\n",
    "hadoop_conf.set(\"fs.gs.auth.service.account.enable\", \"true\")"
   ]
  },
  {
   "cell_type": "code",
   "execution_count": 5,
   "id": "2a95e01a-d931-4b95-a903-4df392a0c98d",
   "metadata": {},
   "outputs": [],
   "source": [
    "spark = SparkSession.builder \\\n",
    "    .config(conf=sc.getConf()) \\\n",
    "    .getOrCreate()"
   ]
  },
  {
   "cell_type": "code",
   "execution_count": 168,
   "id": "a7a3fd87-1e45-4a8f-9d7f-f5ee3d9a932c",
   "metadata": {},
   "outputs": [
    {
     "name": "stderr",
     "output_type": "stream",
     "text": [
      "                                                                                \r"
     ]
    }
   ],
   "source": [
    "df = spark.read.csv('eq_events/raw/*/*', header='true')"
   ]
  },
  {
   "cell_type": "code",
   "execution_count": 170,
   "id": "bdac1ca6-ee92-47b5-ba22-740e76caf5fe",
   "metadata": {},
   "outputs": [],
   "source": [
    "df = df.withColumn(\"year\", date_format(df.date, \"yyyy\")).withColumn(\"month\", date_format(df.date, \"MM\"))"
   ]
  },
  {
   "cell_type": "code",
   "execution_count": 171,
   "id": "6d064faa-ace6-4824-8719-1e82b3f1ecf4",
   "metadata": {},
   "outputs": [
    {
     "name": "stdout",
     "output_type": "stream",
     "text": [
      "24/04/17 02:36:13 WARN CSVHeaderChecker: CSV header does not conform to the schema.\n",
      " Header: , event_id, datetime, location, latitude, longitude, depth, magnitude, significance, alert, country, date, timestamp, level\n",
      " Schema: _c0, event_id, datetime, location, latitude, longitude, depth, magnitude, significance, alert, country, date, timestamp, level\n",
      "Expected: _c0 but found: \n",
      "CSV file: file:/workspaces/de-eq-asmnt-2024/data/eq_events/raw/eq_events_2005/eq_events_2005_10.csv\n",
      "+------+----------+--------------------+--------------------+--------+------------+------+---------+------------+-----+-------+----------+---------------+-----+----+-----+\n",
      "|   _c0|  event_id|            datetime|            location|latitude|   longitude| depth|magnitude|significance|alert|country|      date|      timestamp|level|year|month|\n",
      "+------+----------+--------------------+--------------------+--------+------------+------+---------+------------+-----+-------+----------+---------------+-----+----+-----+\n",
      "|564993|usp000e0m6|2005-10-01 00:05:...|148 km SSW of Kok...|  -5.556|     151.689|  74.4|      4.3|         284|  nan|    PNG|2005-10-01|00:05:42.720000|light|2005|   10|\n",
      "|313162|usp000e0m7|2005-10-01 00:15:...|245 km WSW of Tua...|  -6.559|     130.735|  16.9|      4.5|         312|  nan|    IDN|2005-10-01|00:15:12.910000|light|2005|   10|\n",
      "|313163|usp000e0m8|2005-10-01 00:16:...|51 km NW of Sinab...|   2.754|      96.007|  25.2|      4.3|         284|  nan|    IDN|2005-10-01|00:16:31.090000|light|2005|   10|\n",
      "|564994|usp000e0m9|2005-10-01 00:33:...|138 km SSW of Kok...|  -5.442|     151.666|  65.6|      4.2|         271|  nan|    PNG|2005-10-01|00:33:46.950000|light|2005|   10|\n",
      "|700351|ci14189148|2005-10-01 01:22:...|5km SSE of Redlan...| 34.0175|-117.1641667|11.074|     3.04|         180|  nan|    USA|2005-10-01|01:22:10.520000|minor|2005|   10|\n",
      "|564995|usp000e0me|2005-10-01 02:28:...|146 km SSW of Kok...|  -5.545|     151.722|  55.4|      4.8|         354|  nan|    PNG|2005-10-01|02:28:19.350000|light|2005|   10|\n",
      "|397395|usp000e0mf|2005-10-01 02:43:...|Izu Islands, Japa...|  31.496|     140.232| 102.8|      4.0|         246|  nan|    JPN|2005-10-01|02:43:41.440000|light|2005|   10|\n",
      "| 31421|usp000e0mg|2005-10-01 02:53:...|4 km WNW of Albar...| -31.426|     -68.566|  58.3|      3.6|         199|  nan|    ARG|2005-10-01|02:53:53.650000|minor|2005|   10|\n",
      "|105247|usp000e0mg|2005-10-01 02:53:...|4 km WNW of Albar...| -31.426|     -68.566|  58.3|      3.6|         199|  nan|    BRA|2005-10-01|02:53:53.650000|minor|2005|   10|\n",
      "|156402|usp000e0mg|2005-10-01 02:53:...|4 km WNW of Albar...| -31.426|     -68.566|  58.3|      3.6|         199|  nan|    CHL|2005-10-01|02:53:53.650000|minor|2005|   10|\n",
      "|494537|usp000e0mg|2005-10-01 02:53:...|4 km WNW of Albar...| -31.426|     -68.566|  58.3|      3.6|         199|  nan|    NZL|2005-10-01|02:53:53.650000|minor|2005|   10|\n",
      "|397396|usp000e0mh|2005-10-01 03:00:...|4 km E of Ichihar...|  35.525|     140.136|  69.3|      4.3|         284|  nan|    JPN|2005-10-01|03:00:20.160000|light|2005|   10|\n",
      "|564996|usp000e0mj|2005-10-01 03:12:...|154 km SSW of Kok...|  -5.603|     151.674|  81.6|      4.8|         354|  nan|    PNG|2005-10-01|03:12:53.770000|light|2005|   10|\n",
      "|239784|usp000e0mk|2005-10-01 04:16:...|91 km NNW of Seme...|  12.598|      40.822|  10.0|      4.5|         312|  nan|    ERI|2005-10-01|04:16:21.150000|light|2005|   10|\n",
      "|245990|usp000e0mk|2005-10-01 04:16:...|91 km NNW of Seme...|  12.598|      40.822|  10.0|      4.5|         312|  nan|    ETH|2005-10-01|04:16:21.150000|light|2005|   10|\n",
      "|564997|usp000e0mm|2005-10-01 04:24:...|152 km SSW of Kok...|  -5.623|     151.748|  62.3|      4.4|         298|  nan|    PNG|2005-10-01|04:24:08.780000|light|2005|   10|\n",
      "|441345|usp000e0mn|2005-10-01 04:40:...|3 km NNE of Monte...|  16.417|     -98.487|   8.8|      3.6|         199|  nan|    MEX|2005-10-01|04:40:19.100000|minor|2005|   10|\n",
      "|269019|usp000e0mp|2005-10-01 04:42:...|3 km WSW of Pýrgo...|   37.66|        21.4|  18.0|      3.2|         158|  nan|    GRC|2005-10-01|04:42:19.600000|minor|2005|   10|\n",
      "|397397|usp000e0mq|2005-10-01 05:06:...|16 km SE of T?gan...|  35.437|     140.479|  63.5|      4.3|         284|  nan|    JPN|2005-10-01|05:06:34.590000|light|2005|   10|\n",
      "|461856|usp000e0mr|2005-10-01 05:23:...|Maug Islands regi...|  19.288|     145.456| 170.9|      4.4|         298|  nan|    MNP|2005-10-01|05:23:28.290000|light|2005|   10|\n",
      "+------+----------+--------------------+--------------------+--------+------------+------+---------+------------+-----+-------+----------+---------------+-----+----+-----+\n",
      "only showing top 20 rows\n",
      "\n"
     ]
    }
   ],
   "source": [
    "df.show()"
   ]
  },
  {
   "cell_type": "code",
   "execution_count": 172,
   "id": "756b0198-2d66-421b-8a45-6b1d5127b81f",
   "metadata": {},
   "outputs": [],
   "source": [
    "df = df.drop('_c0')"
   ]
  },
  {
   "cell_type": "code",
   "execution_count": 173,
   "id": "03b504fe-6532-4607-9d16-1ae167a4c71e",
   "metadata": {},
   "outputs": [],
   "source": [
    "df.registerTempTable('eq_events')"
   ]
  },
  {
   "cell_type": "code",
   "execution_count": 174,
   "id": "4491374f-8f2e-4915-b02e-e9a5206a9b1e",
   "metadata": {},
   "outputs": [],
   "source": [
    "df_final = spark.sql(\"\"\"\n",
    "select *\n",
    "from eq_events\n",
    "cluster by country\n",
    "\"\"\")"
   ]
  },
  {
   "cell_type": "code",
   "execution_count": 175,
   "id": "1a51320b-5daa-4104-a5f3-f78dcac74fac",
   "metadata": {},
   "outputs": [],
   "source": [
    "df_monthly = spark.sql(\"\"\"\n",
    "select \n",
    "    country, \n",
    "    date_trunc('month', date) as eq_month,\n",
    "    COUNT(event_id) as events_occ,\n",
    "    avg(depth) as avg_depth_month,\n",
    "    avg(magnitude) as avg_mag_month,\n",
    "    avg(significance) as avg_sig_month,\n",
    "    max(depth) as max_depth_month,\n",
    "    max(magnitude) as max_mag_month,\n",
    "    max(significance) as max_sig_month,\n",
    "    min(depth) as min_depth_month,\n",
    "    min(magnitude) as min_mag_month,\n",
    "    min(significance) as min_sig_month\n",
    "from eq_events\n",
    "group by 1,2\n",
    "cluster by country\n",
    "\"\"\")"
   ]
  },
  {
   "cell_type": "code",
   "execution_count": 176,
   "id": "98f0e73e-53dd-40ab-b8a9-eb9e1f7e28c1",
   "metadata": {},
   "outputs": [],
   "source": [
    "df_week = spark.sql(\"\"\"\n",
    "select \n",
    "    country, \n",
    "    date_trunc('week', date) as eq_week,\n",
    "    COUNT(event_id) as events_occ,\n",
    "    avg(depth) as avg_depth_week,\n",
    "    avg(magnitude) as avg_mag_week,\n",
    "    avg(significance) as avg_sig_week,\n",
    "    max(depth) as max_depth_week,\n",
    "    max(magnitude) as max_mag_week,\n",
    "    max(significance) as max_sig_week,\n",
    "    min(depth) as min_depth_week,\n",
    "    min(magnitude) as min_mag_week,\n",
    "    min(significance) as min_sig_week\n",
    "from eq_events\n",
    "group by 1,2\n",
    "cluster by country\n",
    "\"\"\")"
   ]
  },
  {
   "cell_type": "code",
   "execution_count": 177,
   "id": "c1dbcfdd-6d85-46cf-ac07-32d7ae5f4c7d",
   "metadata": {},
   "outputs": [],
   "source": [
    "df_daily = spark.sql(\"\"\"\n",
    "select \n",
    "    country, \n",
    "    date,\n",
    "    COUNT(event_id) as events_occ,\n",
    "    avg(depth) as avg_depth_day,\n",
    "    avg(magnitude) as avg_mag_day,\n",
    "    avg(significance) as avg_sig_day,\n",
    "    max(depth) as max_depth_day,\n",
    "    max(magnitude) as max_mag_day,\n",
    "    max(significance) as max_sig_day,\n",
    "    min(depth) as min_depth_day,\n",
    "    min(magnitude) as min_mag_day,\n",
    "    min(significance) as min_sig_day\n",
    "from eq_events\n",
    "group by 1,2 \n",
    "cluster by country\n",
    "\"\"\")"
   ]
  },
  {
   "cell_type": "code",
   "execution_count": 179,
   "id": "75195c67-9bc5-4f13-8e27-2e3667469a3a",
   "metadata": {},
   "outputs": [
    {
     "name": "stderr",
     "output_type": "stream",
     "text": [
      "                                                                                \r"
     ]
    },
    {
     "data": {
      "text/plain": [
       "34963"
      ]
     },
     "execution_count": 179,
     "metadata": {},
     "output_type": "execute_result"
    }
   ],
   "source": [
    "df_monthly.count()"
   ]
  },
  {
   "cell_type": "code",
   "execution_count": 124,
   "id": "a9a7507d-e9ac-44a6-84c2-ebd8ac3c196d",
   "metadata": {},
   "outputs": [
    {
     "name": "stderr",
     "output_type": "stream",
     "text": [
      "                                                                                \r"
     ]
    }
   ],
   "source": [
    "df.coalesce(1).write.option(\"header\", \"true\").parquet('eq_events/final/', mode='overwrite')"
   ]
  },
  {
   "cell_type": "code",
   "execution_count": 180,
   "id": "b7d70f1e-079d-42d8-9bf9-4955050355da",
   "metadata": {},
   "outputs": [
    {
     "name": "stderr",
     "output_type": "stream",
     "text": [
      "                                                                                \r"
     ]
    }
   ],
   "source": [
    "df.coalesce(1).write.option(\"header\", \"true\").partitionBy('year', 'month').parquet('eq_events/processed/final', mode='overwrite')"
   ]
  },
  {
   "cell_type": "code",
   "execution_count": null,
   "id": "53076d6a-6a67-4f00-9937-71ca4a048ac1",
   "metadata": {},
   "outputs": [
    {
     "name": "stderr",
     "output_type": "stream",
     "text": [
      "[Stage 161:>                                                        (0 + 1) / 1]\r"
     ]
    }
   ],
   "source": [
    "df_week.coalesce(1).write.option(\"header\", \"true\").partitionBy('eq_week').parquet('eq_events/processed/weekly/', mode='overwrite')"
   ]
  },
  {
   "cell_type": "code",
   "execution_count": null,
   "id": "087eb36e-e37d-4a7a-8bbb-7e4327f4054c",
   "metadata": {},
   "outputs": [],
   "source": [
    "df_monthly.coalesce(1).write.option(\"header\", \"true\").partitionBy('eq_month').parquet('eq_events/processed/monthly/', mode='overwrite')"
   ]
  },
  {
   "cell_type": "code",
   "execution_count": null,
   "id": "ca02275e-e2ea-4969-8415-a40cc044cb41",
   "metadata": {},
   "outputs": [],
   "source": [
    "df_daily.coalesce(1).write.option(\"header\", \"true\").partitionBy('year', 'month').parquet('eq_events/processed/daily/', mode='overwrite')"
   ]
  }
 ],
 "metadata": {
  "kernelspec": {
   "display_name": "Python 3 (ipykernel)",
   "language": "python",
   "name": "python3"
  },
  "language_info": {
   "codemirror_mode": {
    "name": "ipython",
    "version": 3
   },
   "file_extension": ".py",
   "mimetype": "text/x-python",
   "name": "python",
   "nbconvert_exporter": "python",
   "pygments_lexer": "ipython3",
   "version": "3.10.13"
  }
 },
 "nbformat": 4,
 "nbformat_minor": 5
}
